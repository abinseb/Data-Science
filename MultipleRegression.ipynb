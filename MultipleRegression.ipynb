{
 "cells": [
  {
   "cell_type": "code",
   "execution_count": 2,
   "id": "18d1b8e4",
   "metadata": {},
   "outputs": [],
   "source": [
    "import numpy as np\n",
    "import matplotlib.pyplot as plt\n",
    "import sklearn\n",
    "from sklearn.model_selection import train_test_split as tts\n",
    "from sklearn.metrics import mean_squared_error,r2_score\n",
    "from sklearn.datasets import load_iris\n",
    "from sklearn import linear_model as lm"
   ]
  },
  {
   "cell_type": "code",
   "execution_count": 3,
   "id": "b5694c8b",
   "metadata": {},
   "outputs": [],
   "source": [
    "x,y=load_iris(return_X_y=True)"
   ]
  },
  {
   "cell_type": "code",
   "execution_count": 4,
   "id": "ec5c5ffd",
   "metadata": {},
   "outputs": [],
   "source": [
    "x=x[:,0:2]"
   ]
  },
  {
   "cell_type": "code",
   "execution_count": 5,
   "id": "f8460e58",
   "metadata": {},
   "outputs": [
    {
     "data": {
      "text/plain": [
       "array([[5.1, 3.5],\n",
       "       [4.9, 3. ],\n",
       "       [4.7, 3.2],\n",
       "       [4.6, 3.1],\n",
       "       [5. , 3.6]])"
      ]
     },
     "execution_count": 5,
     "metadata": {},
     "output_type": "execute_result"
    }
   ],
   "source": [
    "x[:5]"
   ]
  },
  {
   "cell_type": "code",
   "execution_count": 6,
   "id": "66bb31ca",
   "metadata": {},
   "outputs": [
    {
     "data": {
      "text/plain": [
       "array([0, 0, 0, 0, 0])"
      ]
     },
     "execution_count": 6,
     "metadata": {},
     "output_type": "execute_result"
    }
   ],
   "source": [
    "y[:5]"
   ]
  },
  {
   "cell_type": "code",
   "execution_count": 7,
   "id": "8d2423b3",
   "metadata": {},
   "outputs": [],
   "source": [
    "xTrain,xTest,yTrain,yTest = tts(x,y,test_size=0.20,random_state=2)"
   ]
  },
  {
   "cell_type": "code",
   "execution_count": 8,
   "id": "fb81ef65",
   "metadata": {},
   "outputs": [
    {
     "data": {
      "text/plain": [
       "array([[6.2, 2.8],\n",
       "       [5.1, 3.3],\n",
       "       [5.6, 2.9],\n",
       "       [7.7, 3.8],\n",
       "       [5.4, 3. ]])"
      ]
     },
     "execution_count": 8,
     "metadata": {},
     "output_type": "execute_result"
    }
   ],
   "source": [
    "xTrain[:5]"
   ]
  },
  {
   "cell_type": "code",
   "execution_count": 9,
   "id": "d86e6139",
   "metadata": {},
   "outputs": [
    {
     "data": {
      "text/plain": [
       "array([[4.6, 3.4],\n",
       "       [4.6, 3.1],\n",
       "       [5.7, 2.5],\n",
       "       [4.8, 3. ],\n",
       "       [4.8, 3.4]])"
      ]
     },
     "execution_count": 9,
     "metadata": {},
     "output_type": "execute_result"
    }
   ],
   "source": [
    "xTest[:5]"
   ]
  },
  {
   "cell_type": "code",
   "execution_count": 10,
   "id": "f547cba4",
   "metadata": {},
   "outputs": [
    {
     "data": {
      "text/plain": [
       "array([2, 0, 1, 2, 1])"
      ]
     },
     "execution_count": 10,
     "metadata": {},
     "output_type": "execute_result"
    }
   ],
   "source": [
    "yTrain[:5]"
   ]
  },
  {
   "cell_type": "code",
   "execution_count": 11,
   "id": "66603059",
   "metadata": {},
   "outputs": [
    {
     "data": {
      "text/plain": [
       "array([0, 0, 2, 0, 0])"
      ]
     },
     "execution_count": 11,
     "metadata": {},
     "output_type": "execute_result"
    }
   ],
   "source": [
    "yTest[:5]"
   ]
  },
  {
   "cell_type": "code",
   "execution_count": 12,
   "id": "fa107867",
   "metadata": {},
   "outputs": [],
   "source": [
    "cl = lm.LinearRegression()"
   ]
  },
  {
   "cell_type": "code",
   "execution_count": 13,
   "id": "85707479",
   "metadata": {},
   "outputs": [
    {
     "data": {
      "text/plain": [
       "LinearRegression()"
      ]
     },
     "execution_count": 13,
     "metadata": {},
     "output_type": "execute_result"
    }
   ],
   "source": [
    "cl.fit(xTrain,yTrain)"
   ]
  },
  {
   "cell_type": "code",
   "execution_count": 14,
   "id": "5091262f",
   "metadata": {},
   "outputs": [],
   "source": [
    "yPred = cl.predict(xTest)"
   ]
  },
  {
   "cell_type": "code",
   "execution_count": 15,
   "id": "8b37035c",
   "metadata": {},
   "outputs": [
    {
     "data": {
      "text/plain": [
       "array([-0.10525152,  0.09849908,  1.28963619,  0.3088952 ,  0.03722774,\n",
       "        2.01864627,  0.45137446,  2.00203246,  1.58456298,  0.3088952 ,\n",
       "        0.18967528, -0.11189704,  0.31554073,  0.12508118,  0.89210327,\n",
       "        1.65580261,  0.57059438,  1.01796872,  1.45869754,  1.14715693,\n",
       "        1.66244813,  1.51664612,  1.31289552,  1.08256283,  1.85290768,\n",
       "        0.10182184,  0.10182184,  1.23501037, -0.02072084,  1.88281254])"
      ]
     },
     "execution_count": 15,
     "metadata": {},
     "output_type": "execute_result"
    }
   ],
   "source": [
    "yPred"
   ]
  },
  {
   "cell_type": "code",
   "execution_count": 16,
   "id": "278f2a29",
   "metadata": {},
   "outputs": [
    {
     "data": {
      "text/plain": [
       "0.7657435591135927"
      ]
     },
     "execution_count": 16,
     "metadata": {},
     "output_type": "execute_result"
    }
   ],
   "source": [
    "r2_score(yTest,yPred)"
   ]
  },
  {
   "cell_type": "code",
   "execution_count": 17,
   "id": "cecd39cf",
   "metadata": {},
   "outputs": [
    {
     "data": {
      "text/plain": [
       "0.16241779901457576"
      ]
     },
     "execution_count": 17,
     "metadata": {},
     "output_type": "execute_result"
    }
   ],
   "source": [
    "mean_squared_error(yTest,yPred)"
   ]
  },
  {
   "cell_type": "code",
   "execution_count": 18,
   "id": "79221458",
   "metadata": {},
   "outputs": [
    {
     "data": {
      "image/png": "[encoded data removed]",
      "text/plain": [
       "<Figure size 432x288 with 1 Axes>"
      ]
     },
     "metadata": {
      "needs_background": "light"
     },
     "output_type": "display_data"
    }
   ],
   "source": [
    "plt.scatter(xTest[:,0],yTest,color='r')\n",
    "plt.plot(xTest[:,0],yPred,color='g')\n",
    "plt.show()"
   ]
  },
  {
   "cell_type": "code",
   "execution_count": null,
   "id": "32858fe4",
   "metadata": {},
   "outputs": [],
   "source": []
  }
 ],
 "metadata": {
  "kernelspec": {
   "display_name": "Python 3 (ipykernel)",
   "language": "python",
   "name": "python3"
  },
  "language_info": {
   "codemirror_mode": {
    "name": "ipython",
    "version": 3
   },
   "file_extension": ".py",
   "mimetype": "text/x-python",
   "name": "python",
   "nbconvert_exporter": "python",
   "pygments_lexer": "ipython3",
   "version": "3.9.7"
  }
 },
 "nbformat": 4,
 "nbformat_minor": 5
}
