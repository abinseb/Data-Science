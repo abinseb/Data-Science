{
 "cells": [
  {
   "cell_type": "code",
   "execution_count": 1,
   "id": "332d9910",
   "metadata": {},
   "outputs": [],
   "source": [
    "#Program to implement Naive Bayes Algorithm using any standard dataset available in the\n",
    "#public domain and find the accuracy of the algorithm"
   ]
  },
  {
   "cell_type": "code",
   "execution_count": null,
   "id": "891e4ec6",
   "metadata": {},
   "outputs": [],
   "source": [
    "import sklearn\n",
    "from sklearn.model_selection import train_test_split as tts\n",
    "from sklearn.metrics import confusion_matrix , accuracy_score\n",
    "from sklearn.neighbors import KNeighborsClassifier as kn\n",
    "from sklearn.datasets import load_iris\n",
    "from sklearn.naive_bayes import GaussianNB as gb\n"
   ]
  },
  {
   "cell_type": "code",
   "execution_count": 3,
   "id": "97a8bc4f",
   "metadata": {},
   "outputs": [],
   "source": [
    "a = load_iris()"
   ]
  },
  {
   "cell_type": "code",
   "execution_count": 4,
   "id": "5b6d75df",
   "metadata": {},
   "outputs": [],
   "source": [
    "x = a.data\n"
   ]
  },
  {
   "cell_type": "code",
   "execution_count": 5,
   "id": "aaf6be34",
   "metadata": {},
   "outputs": [],
   "source": [
    "y = a.target"
   ]
  },
  {
   "cell_type": "code",
   "execution_count": 6,
   "id": "a359de60",
   "metadata": {},
   "outputs": [
    {
     "data": {
      "text/plain": [
       "array([[5.1, 3.5, 1.4, 0.2],\n",
       "       [4.9, 3. , 1.4, 0.2],\n",
       "       [4.7, 3.2, 1.3, 0.2],\n",
       "       [4.6, 3.1, 1.5, 0.2],\n",
       "       [5. , 3.6, 1.4, 0.2]])"
      ]
     },
     "execution_count": 6,
     "metadata": {},
     "output_type": "execute_result"
    }
   ],
   "source": [
    "x[:5]"
   ]
  },
  {
   "cell_type": "code",
   "execution_count": 7,
   "id": "ee07f0ca",
   "metadata": {},
   "outputs": [
    {
     "data": {
      "text/plain": [
       "array([0, 0, 0, 0, 0])"
      ]
     },
     "execution_count": 7,
     "metadata": {},
     "output_type": "execute_result"
    }
   ],
   "source": [
    "y[:5]"
   ]
  },
  {
   "cell_type": "code",
   "execution_count": 9,
   "id": "08019af3",
   "metadata": {},
   "outputs": [],
   "source": [
    "xTest,xTrain,yTest,yTrain = tts(x,y,test_size=0.20)"
   ]
  },
  {
   "cell_type": "code",
   "execution_count": 10,
   "id": "a7ebd4ad",
   "metadata": {},
   "outputs": [
    {
     "data": {
      "text/plain": [
       "array([[4.9, 2.4, 3.3, 1. ],\n",
       "       [6. , 2.7, 5.1, 1.6],\n",
       "       [6.3, 2.9, 5.6, 1.8],\n",
       "       [5.7, 2.8, 4.1, 1.3],\n",
       "       [5. , 3.2, 1.2, 0.2]])"
      ]
     },
     "execution_count": 10,
     "metadata": {},
     "output_type": "execute_result"
    }
   ],
   "source": [
    "xTrain[:5]"
   ]
  },
  {
   "cell_type": "code",
   "execution_count": 11,
   "id": "28960186",
   "metadata": {},
   "outputs": [
    {
     "data": {
      "text/plain": [
       "array([[5.7, 2.6, 3.5, 1. ],\n",
       "       [5.5, 2.5, 4. , 1.3],\n",
       "       [5.5, 2.4, 3.7, 1. ],\n",
       "       [6.9, 3.1, 5.4, 2.1],\n",
       "       [4.4, 3.2, 1.3, 0.2]])"
      ]
     },
     "execution_count": 11,
     "metadata": {},
     "output_type": "execute_result"
    }
   ],
   "source": [
    "xTest[:5]"
   ]
  },
  {
   "cell_type": "code",
   "execution_count": 12,
   "id": "47fea197",
   "metadata": {},
   "outputs": [
    {
     "data": {
      "text/plain": [
       "array([1, 1, 2, 1, 0])"
      ]
     },
     "execution_count": 12,
     "metadata": {},
     "output_type": "execute_result"
    }
   ],
   "source": [
    "yTrain[:5]"
   ]
  },
  {
   "cell_type": "code",
   "execution_count": 13,
   "id": "6240c37d",
   "metadata": {},
   "outputs": [
    {
     "data": {
      "text/plain": [
       "array([1, 1, 1, 2, 0])"
      ]
     },
     "execution_count": 13,
     "metadata": {},
     "output_type": "execute_result"
    }
   ],
   "source": [
    "yTest[:5]"
   ]
  },
  {
   "cell_type": "code",
   "execution_count": 14,
   "id": "961ad73c",
   "metadata": {},
   "outputs": [
    {
     "data": {
      "text/plain": [
       "GaussianNB()"
      ]
     },
     "execution_count": 14,
     "metadata": {},
     "output_type": "execute_result"
    }
   ],
   "source": [
    "cl = gb()\n",
    "cl.fit(xTrain,yTrain)"
   ]
  },
  {
   "cell_type": "code",
   "execution_count": 16,
   "id": "b68a950a",
   "metadata": {},
   "outputs": [
    {
     "data": {
      "text/plain": [
       "array([1, 1, 1, 2, 0, 0, 1, 1, 0, 0, 0, 0, 2, 1, 0, 2, 0, 1, 0, 0, 2, 0,\n",
       "       0, 0, 2, 0, 1, 2, 1, 0, 1, 1, 0, 1, 1, 2, 2, 2, 1, 2, 1, 1, 2, 2,\n",
       "       2, 0, 2, 2, 2, 1, 0, 1, 1, 0, 0, 0, 2, 2, 2, 2, 1, 1, 2, 1, 2, 0,\n",
       "       0, 1, 2, 2, 1, 2, 0, 0, 2, 0, 0, 1, 2, 0, 2, 0, 1, 2, 2, 2, 0, 1,\n",
       "       0, 0, 0, 0, 1, 2, 0, 0, 2, 1, 1, 2, 1, 1, 0, 2, 0, 1, 2, 2, 1, 1,\n",
       "       2, 1, 1, 2, 0, 2, 0, 1, 1, 1])"
      ]
     },
     "execution_count": 16,
     "metadata": {},
     "output_type": "execute_result"
    }
   ],
   "source": [
    "pred=cl.predict(xTest)\n",
    "pred"
   ]
  },
  {
   "cell_type": "code",
   "execution_count": 19,
   "id": "a038680e",
   "metadata": {},
   "outputs": [
    {
     "data": {
      "text/plain": [
       "array([[40,  0,  0],\n",
       "       [ 0, 37,  2],\n",
       "       [ 0,  3, 38]], dtype=int64)"
      ]
     },
     "execution_count": 19,
     "metadata": {},
     "output_type": "execute_result"
    }
   ],
   "source": [
    "cm=confusion_matrix(yTest,pred)\n",
    "cm"
   ]
  },
  {
   "cell_type": "code",
   "execution_count": 21,
   "id": "b37c3062",
   "metadata": {},
   "outputs": [
    {
     "data": {
      "text/plain": [
       "0.9583333333333334"
      ]
     },
     "execution_count": 21,
     "metadata": {},
     "output_type": "execute_result"
    }
   ],
   "source": [
    "ac=accuracy_score(yTest,pred)\n",
    "ac"
   ]
  },
  {
   "cell_type": "code",
   "execution_count": null,
   "id": "fd5ea075",
   "metadata": {},
   "outputs": [],
   "source": []
  }
 ],
 "metadata": {
  "kernelspec": {
   "display_name": "Python 3 (ipykernel)",
   "language": "python",
   "name": "python3"
  },
  "language_info": {
   "codemirror_mode": {
    "name": "ipython",
    "version": 3
   },
   "file_extension": ".py",
   "mimetype": "text/x-python",
   "name": "python",
   "nbconvert_exporter": "python",
   "pygments_lexer": "ipython3",
   "version": "3.9.7"
  }
 },
 "nbformat": 4,
 "nbformat_minor": 5
}
